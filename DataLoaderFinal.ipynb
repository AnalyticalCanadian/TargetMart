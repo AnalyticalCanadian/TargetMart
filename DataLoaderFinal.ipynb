{
    "metadata": {
        "kernelspec": {
            "name": "SQL",
            "display_name": "SQL",
            "language": "sql"
        },
        "language_info": {
            "name": "sql",
            "version": ""
        }
    },
    "nbformat_minor": 2,
    "nbformat": 4,
    "cells": [
        {
            "cell_type": "markdown",
            "source": [
                "# **_Data Loading Script_**"
            ],
            "metadata": {
                "azdata_cell_guid": "09872beb-795a-4df0-8446-33b280e27002"
            },
            "attachments": {}
        },
        {
            "cell_type": "markdown",
            "source": [
                "## **_Load the customer dimension data_**"
            ],
            "metadata": {
                "azdata_cell_guid": "3e88cd24-6110-48f4-97b2-99b0ec74d152"
            },
            "attachments": {}
        },
        {
            "cell_type": "code",
            "source": [
                "Use TargetMart2\r\n",
                "GO\r\n",
                "INSERT INTO dim.Customers(CustomerID, Customer, City, Country, LoadDate, SourceCountry)\r\n",
                "\tSELECT nwc.CustomerID\r\n",
                "\t\t  ,nwc.CompanyName \r\n",
                "\t\t  ,nwc.City\r\n",
                "\t\t  ,nwc.Country\r\n",
                "\t\t  ,CAST(getdate() as DATE)\r\n",
                "\t\t  ,concat('Country = ', nwc.Country) \r\n",
                "\tFROM NORHTWIND.[dbo].[Customers] nwc\r\n",
                "\tWHERE nwc.CustomerID not in (SELECT CustomerID FROM dim.Customers)\r\n",
                "\r\n",
                ";\r\n",
                "GO"
            ],
            "metadata": {
                "azdata_cell_guid": "09384a66-da37-48c1-bd8a-8b132fa7f34b",
                "language": "sql"
            },
            "outputs": [
                {
                    "output_type": "display_data",
                    "data": {
                        "text/html": "Commands completed successfully."
                    },
                    "metadata": {}
                },
                {
                    "output_type": "display_data",
                    "data": {
                        "text/html": "(0 rows affected)"
                    },
                    "metadata": {}
                },
                {
                    "output_type": "display_data",
                    "data": {
                        "text/html": "Total execution time: 00:00:00.010"
                    },
                    "metadata": {}
                }
            ],
            "execution_count": 136
        },
        {
            "cell_type": "code",
            "source": [
                "Select Top 10 * From dim.Customers;\r\n",
                ""
            ],
            "metadata": {
                "language": "sql",
                "azdata_cell_guid": "3913df4a-8fbc-4039-86c9-2aab00ac1660"
            },
            "outputs": [
                {
                    "output_type": "display_data",
                    "data": {
                        "text/html": "(10 rows affected)"
                    },
                    "metadata": {}
                },
                {
                    "output_type": "display_data",
                    "data": {
                        "text/html": "Total execution time: 00:00:00.012"
                    },
                    "metadata": {}
                },
                {
                    "output_type": "execute_result",
                    "metadata": {},
                    "execution_count": 4,
                    "data": {
                        "application/vnd.dataresource+json": {
                            "schema": {
                                "fields": [
                                    {
                                        "name": "pkCustomer"
                                    },
                                    {
                                        "name": "CustomerID"
                                    },
                                    {
                                        "name": "Customer"
                                    },
                                    {
                                        "name": "City"
                                    },
                                    {
                                        "name": "Country"
                                    },
                                    {
                                        "name": "LoadDate"
                                    },
                                    {
                                        "name": "SourceCountry"
                                    }
                                ]
                            },
                            "data": [
                                {
                                    "pkCustomer": "1000",
                                    "CustomerID": "ALFKI",
                                    "Customer": "Alfreds Futterkiste",
                                    "City": "Berlin",
                                    "Country": "Germany",
                                    "LoadDate": "2023-11-30",
                                    "SourceCountry": "Country = Germany"
                                },
                                {
                                    "pkCustomer": "1001",
                                    "CustomerID": "ANATR",
                                    "Customer": "Ana Trujillo Emparedados y helados",
                                    "City": "México D.F.",
                                    "Country": "Mexico",
                                    "LoadDate": "2023-11-30",
                                    "SourceCountry": "Country = Mexico"
                                },
                                {
                                    "pkCustomer": "1002",
                                    "CustomerID": "ANTON",
                                    "Customer": "Antonio Moreno Taquería",
                                    "City": "México D.F.",
                                    "Country": "Mexico",
                                    "LoadDate": "2023-11-30",
                                    "SourceCountry": "Country = Mexico"
                                },
                                {
                                    "pkCustomer": "1003",
                                    "CustomerID": "AROUT",
                                    "Customer": "Around the Horn",
                                    "City": "London",
                                    "Country": "UK",
                                    "LoadDate": "2023-11-30",
                                    "SourceCountry": "Country = UK"
                                },
                                {
                                    "pkCustomer": "1004",
                                    "CustomerID": "BERGS",
                                    "Customer": "Berglunds snabbköp",
                                    "City": "Luleå",
                                    "Country": "Sweden",
                                    "LoadDate": "2023-11-30",
                                    "SourceCountry": "Country = Sweden"
                                },
                                {
                                    "pkCustomer": "1005",
                                    "CustomerID": "BLAUS",
                                    "Customer": "Blauer See Delikatessen",
                                    "City": "Mannheim",
                                    "Country": "Germany",
                                    "LoadDate": "2023-11-30",
                                    "SourceCountry": "Country = Germany"
                                },
                                {
                                    "pkCustomer": "1006",
                                    "CustomerID": "BLONP",
                                    "Customer": "Blondesddsl père et fils",
                                    "City": "Strasbourg",
                                    "Country": "France",
                                    "LoadDate": "2023-11-30",
                                    "SourceCountry": "Country = France"
                                },
                                {
                                    "pkCustomer": "1007",
                                    "CustomerID": "BOLID",
                                    "Customer": "Bólido Comidas preparadas",
                                    "City": "Madrid",
                                    "Country": "Spain",
                                    "LoadDate": "2023-11-30",
                                    "SourceCountry": "Country = Spain"
                                },
                                {
                                    "pkCustomer": "1008",
                                    "CustomerID": "BONAP",
                                    "Customer": "Bon app'",
                                    "City": "Marseille",
                                    "Country": "France",
                                    "LoadDate": "2023-11-30",
                                    "SourceCountry": "Country = France"
                                },
                                {
                                    "pkCustomer": "1009",
                                    "CustomerID": "BOTTM",
                                    "Customer": "Bottom-Dollar Markets",
                                    "City": "Tsawassen",
                                    "Country": "Canada",
                                    "LoadDate": "2023-11-30",
                                    "SourceCountry": "Country = Canada"
                                }
                            ]
                        },
                        "text/html": [
                            "<table>",
                            "<tr><th>pkCustomer</th><th>CustomerID</th><th>Customer</th><th>City</th><th>Country</th><th>LoadDate</th><th>SourceCountry</th></tr>",
                            "<tr><td>1000</td><td>ALFKI</td><td>Alfreds Futterkiste</td><td>Berlin</td><td>Germany</td><td>2023-11-30</td><td>Country = Germany</td></tr>",
                            "<tr><td>1001</td><td>ANATR</td><td>Ana Trujillo Emparedados y helados</td><td>México D.F.</td><td>Mexico</td><td>2023-11-30</td><td>Country = Mexico</td></tr>",
                            "<tr><td>1002</td><td>ANTON</td><td>Antonio Moreno Taquería</td><td>México D.F.</td><td>Mexico</td><td>2023-11-30</td><td>Country = Mexico</td></tr>",
                            "<tr><td>1003</td><td>AROUT</td><td>Around the Horn</td><td>London</td><td>UK</td><td>2023-11-30</td><td>Country = UK</td></tr>",
                            "<tr><td>1004</td><td>BERGS</td><td>Berglunds snabbköp</td><td>Luleå</td><td>Sweden</td><td>2023-11-30</td><td>Country = Sweden</td></tr>",
                            "<tr><td>1005</td><td>BLAUS</td><td>Blauer See Delikatessen</td><td>Mannheim</td><td>Germany</td><td>2023-11-30</td><td>Country = Germany</td></tr>",
                            "<tr><td>1006</td><td>BLONP</td><td>Blondesddsl père et fils</td><td>Strasbourg</td><td>France</td><td>2023-11-30</td><td>Country = France</td></tr>",
                            "<tr><td>1007</td><td>BOLID</td><td>Bólido Comidas preparadas</td><td>Madrid</td><td>Spain</td><td>2023-11-30</td><td>Country = Spain</td></tr>",
                            "<tr><td>1008</td><td>BONAP</td><td>Bon app&#39;</td><td>Marseille</td><td>France</td><td>2023-11-30</td><td>Country = France</td></tr>",
                            "<tr><td>1009</td><td>BOTTM</td><td>Bottom-Dollar Markets</td><td>Tsawassen</td><td>Canada</td><td>2023-11-30</td><td>Country = Canada</td></tr>",
                            "</table>"
                        ]
                    }
                }
            ],
            "execution_count": 4
        },
        {
            "cell_type": "markdown",
            "source": [
                "**_Simplicity: This script is used in the context of a data warehouse (TargetMart2) to load data into the dim.Customers dimension table. It inserts records from the source table \\[NORTHWIND\\].\\[dbo\\].\\[Customers\\] into the dimension table, including relevant customer details such as CustomerID, CompanyName, City, and Country._**"
            ],
            "metadata": {
                "azdata_cell_guid": "e72c4af5-e158-4f2a-809a-278dde9896e3"
            },
            "attachments": {}
        },
        {
            "cell_type": "markdown",
            "source": [
                "## _**Load the Calendar dimension table**_"
            ],
            "metadata": {
                "azdata_cell_guid": "94ec905b-22a3-4329-9657-96f8602412a7"
            },
            "attachments": {}
        },
        {
            "cell_type": "code",
            "source": [
                "Use TargetMart2\r\n",
                "Go\r\n",
                "IF (SELECT count(*) FROM dim.Calendar) = 0\r\n",
                "BEGIN\r\n",
                "-- Declare variables\r\n",
                "DECLARE @StartDate DATE = '2020-01-01'\r\n",
                "DECLARE @EndDate DATE = DATEADD(year, 0, GETDATE())\r\n",
                "DECLARE @Date DATE = @StartDate\r\n",
                "DECLARE @DayID INT = (datepart(year, @StartDate)-1900)*1000 + datepart(dy, @StartDate)\r\n",
                ";\r\n",
                "\r\n",
                "\r\n",
                "-- Populate the Calendar table\r\n",
                "WHILE @Date <= @EndDate\r\n",
                "\tBEGIN\r\n",
                "\t\tINSERT INTO dim.Calendar (pkCalendar, DateValue, Year, Quarter, Qtr, Month,  MonthName, MonthShort, Week, Day, DayName, DayShort, IsWeekday, Weekday)\r\n",
                "\t\tVALUES (\r\n",
                "\t\t\t@DayID,\r\n",
                "\t\t\t@Date,\r\n",
                "\t\t\tYEAR(@Date),\r\n",
                "\t\t\tDATEPART(QUARTER, @Date),\r\n",
                "\t\t\tCASE WHEN DATEPART(QUARTER, @Date) IN (1) THEN '1st'\r\n",
                "\t\t\t\t WHEN DATEPART(QUARTER, @Date) IN (2) THEN '2nd'\r\n",
                "\t\t\t\t WHEN DATEPART(QUARTER, @Date) IN (3) THEN '3rd'\r\n",
                "\t\t\t\t WHEN DATEPART(QUARTER, @Date) IN (4) THEN '4th'\r\n",
                "\t\t\t\t ELSE '5th'\r\n",
                "\t\t\t\t END,\r\n",
                "\t\t\tMONTH(@Date),\r\n",
                "\t\t\tDATENAME(MONTH, @Date),\r\n",
                "\t\t\tLEFT(DATENAME(MONTH, @Date),3),\r\n",
                "\t\t\tDATEPART(WEEK, @Date),\r\n",
                "\t\t\tDAY(@Date),\r\n",
                "\t\t\tDATENAME(WEEKDAY, @Date),\r\n",
                "\t\t\tLEFT(DATENAME(WEEKDAY, @Date),3),\r\n",
                "\t\t\tCASE WHEN DATEPART(WEEKDAY, @Date) IN (1, 7) THEN 0 ELSE 1 END, -- Set IsWeekday to 0 for Saturday (1) and Sunday (7), and 1 for weekdays\r\n",
                "\t\t\tCASE WHEN DATEPART(WEEKDAY, @Date) IN (1, 7) THEN 'No' ELSE 'Yes' END\r\n",
                "\t )\r\n",
                "\r\n",
                "\t\t-- Increment the date and day ID\r\n",
                "\t\tSET @Date = DATEADD(DAY, 1, @Date)\r\n",
                "\t\tSET @DayID = @DayID + 1\r\n",
                "\tEND\r\n",
                "END\r\n",
                "GO\r\n",
                ";"
            ],
            "metadata": {
                "azdata_cell_guid": "d93faed5-1566-449d-9987-8b27a956169e",
                "language": "sql",
                "tags": [
                    "hide_input"
                ]
            },
            "outputs": [
                {
                    "output_type": "display_data",
                    "data": {
                        "text/html": "Commands completed successfully."
                    },
                    "metadata": {}
                },
                {
                    "output_type": "display_data",
                    "data": {
                        "text/html": "Commands completed successfully."
                    },
                    "metadata": {}
                },
                {
                    "output_type": "display_data",
                    "data": {
                        "text/html": "Commands completed successfully."
                    },
                    "metadata": {}
                },
                {
                    "output_type": "display_data",
                    "data": {
                        "text/html": "Total execution time: 00:00:00.005"
                    },
                    "metadata": {}
                }
            ],
            "execution_count": 138
        },
        {
            "cell_type": "markdown",
            "source": [
                "## _**Load the Shipper dimension table**_"
            ],
            "metadata": {
                "language": "sql",
                "azdata_cell_guid": "91c80a75-57ed-4fb4-9e82-18c77cf22183"
            },
            "attachments": {}
        },
        {
            "cell_type": "code",
            "source": [
                "INSERT INTO dim.Shipper(pkShipId, Shipper, Phone)\r\n",
                "SELECT s_sh.ShipperID\r\n",
                "      ,s_sh.CompanyName\r\n",
                "      ,s_sh.Phone\r\n",
                "FROM NORHTWIND.dbo.Shippers s_sh\r\n",
                "WHERE s_sh.ShipperID not in (SELECT pkShipId FROM dim.Shipper)\r\n",
                ";\r\n",
                "GO\r\n",
                ""
            ],
            "metadata": {
                "language": "sql",
                "azdata_cell_guid": "70a13abd-581d-42a8-814d-43ecbb62e8a7"
            },
            "outputs": [
                {
                    "output_type": "display_data",
                    "data": {
                        "text/html": "(0 rows affected)"
                    },
                    "metadata": {}
                },
                {
                    "output_type": "display_data",
                    "data": {
                        "text/html": "Total execution time: 00:00:00.010"
                    },
                    "metadata": {}
                }
            ],
            "execution_count": 139
        },
        {
            "cell_type": "code",
            "source": [
                "Select  * from dim.Shipper ;"
            ],
            "metadata": {
                "language": "sql",
                "azdata_cell_guid": "97beea2c-5cbb-4fd9-ad6c-62bb4148fc55"
            },
            "outputs": [
                {
                    "output_type": "display_data",
                    "data": {
                        "text/html": "(3 rows affected)"
                    },
                    "metadata": {}
                },
                {
                    "output_type": "display_data",
                    "data": {
                        "text/html": "Total execution time: 00:00:00.010"
                    },
                    "metadata": {}
                },
                {
                    "output_type": "execute_result",
                    "metadata": {},
                    "execution_count": 5,
                    "data": {
                        "application/vnd.dataresource+json": {
                            "schema": {
                                "fields": [
                                    {
                                        "name": "pkShipId"
                                    },
                                    {
                                        "name": "Shipper"
                                    },
                                    {
                                        "name": "Phone"
                                    }
                                ]
                            },
                            "data": [
                                {
                                    "pkShipId": "1",
                                    "Shipper": "Speedy Express",
                                    "Phone": "(503) 555-9831"
                                },
                                {
                                    "pkShipId": "2",
                                    "Shipper": "United Package",
                                    "Phone": "(503) 555-3199"
                                },
                                {
                                    "pkShipId": "3",
                                    "Shipper": "Federal Shipping",
                                    "Phone": "(503) 555-9931"
                                }
                            ]
                        },
                        "text/html": [
                            "<table>",
                            "<tr><th>pkShipId</th><th>Shipper</th><th>Phone</th></tr>",
                            "<tr><td>1</td><td>Speedy Express</td><td>(503) 555-9831</td></tr>",
                            "<tr><td>2</td><td>United Package</td><td>(503) 555-3199</td></tr>",
                            "<tr><td>3</td><td>Federal Shipping</td><td>(503) 555-9931</td></tr>",
                            "</table>"
                        ]
                    }
                }
            ],
            "execution_count": 5
        },
        {
            "cell_type": "markdown",
            "source": [
                "## _**Load the Product dimension table**_"
            ],
            "metadata": {
                "language": "sql",
                "azdata_cell_guid": "62bfbc65-c0c6-4a0f-b9da-70556a1d8a2a"
            },
            "attachments": {}
        },
        {
            "cell_type": "code",
            "source": [
                "INSERT INTO dim.Products(pkProdId, ProductId, Product, ProductCategory, CategoryDesc, UnitPrice, UnitsInStock, UnitsOnOrder, ReorderLevel, Discontinued, ReorderFlag)\r\n",
                "SELECT prod.ProductID + 10000 as 'pkProdId'\r\n",
                "      , prod.ProductID as 'ProductId'\r\n",
                "      , prod.ProductName as 'Product'\r\n",
                "\t  , cat.CategoryName as 'ProductCategory'\r\n",
                "\t  , cat.[Description] as 'CategoryDesc'\r\n",
                "\t  , prod.UnitPrice\r\n",
                "\t  , prod.UnitsInStock\r\n",
                "\t  , prod.UnitsOnOrder\r\n",
                "\t  , prod.ReorderLevel\r\n",
                "\t  , prod.Discontinued\r\n",
                "\t  , CASE \r\n",
                "\t\t\tWHEN prod.ReorderLevel >= (prod.UnitsInStock + prod.UnitsOnOrder)\r\n",
                "\t\t\t     AND prod.Discontinued = 0\r\n",
                "\t\t\t THEN 'Yes'\r\n",
                "\t      ELSE 'No'\r\n",
                "\t    END as 'ReorderFlag'\r\n",
                "FROM NORHTWIND.dbo.Products prod\r\n",
                "\tINNER JOIN NORHTWIND.dbo.Categories cat\r\n",
                "\tON prod.CategoryID = cat.CategoryID\r\n",
                "WHERE prod.ProductID not in (SELECT ProductId FROM dim.Products)\r\n",
                ";\r\n",
                ""
            ],
            "metadata": {
                "language": "sql",
                "azdata_cell_guid": "d423d160-07fa-49e8-9717-bc980c14c415",
                "tags": []
            },
            "outputs": [
                {
                    "output_type": "display_data",
                    "data": {
                        "text/html": "(0 rows affected)"
                    },
                    "metadata": {}
                },
                {
                    "output_type": "display_data",
                    "data": {
                        "text/html": "Total execution time: 00:00:00.016"
                    },
                    "metadata": {}
                }
            ],
            "execution_count": 141
        },
        {
            "cell_type": "code",
            "source": [
                "Select top 10 * from dim.Products;"
            ],
            "metadata": {
                "language": "sql",
                "azdata_cell_guid": "7228b908-fb6a-4513-bc8c-13fa72c80077"
            },
            "outputs": [
                {
                    "output_type": "display_data",
                    "data": {
                        "text/html": "(10 rows affected)"
                    },
                    "metadata": {}
                },
                {
                    "output_type": "display_data",
                    "data": {
                        "text/html": "Total execution time: 00:00:00.035"
                    },
                    "metadata": {}
                },
                {
                    "output_type": "execute_result",
                    "metadata": {},
                    "execution_count": 6,
                    "data": {
                        "application/vnd.dataresource+json": {
                            "schema": {
                                "fields": [
                                    {
                                        "name": "pkProdId"
                                    },
                                    {
                                        "name": "ProductId"
                                    },
                                    {
                                        "name": "Product"
                                    },
                                    {
                                        "name": "ProductCategory"
                                    },
                                    {
                                        "name": "CategoryDesc"
                                    },
                                    {
                                        "name": "UnitPrice"
                                    },
                                    {
                                        "name": "UnitsInStock"
                                    },
                                    {
                                        "name": "UnitsOnOrder"
                                    },
                                    {
                                        "name": "ReorderLevel"
                                    },
                                    {
                                        "name": "Discontinued"
                                    },
                                    {
                                        "name": "ReorderFlag"
                                    }
                                ]
                            },
                            "data": [
                                {
                                    "pkProdId": "10001",
                                    "ProductId": "1",
                                    "Product": "Chai",
                                    "ProductCategory": "Beverages",
                                    "CategoryDesc": "Soft drinks, coffees, teas, beers, and ales",
                                    "UnitPrice": "18.00",
                                    "UnitsInStock": "39",
                                    "UnitsOnOrder": "0",
                                    "ReorderLevel": "10",
                                    "Discontinued": "0",
                                    "ReorderFlag": "No"
                                },
                                {
                                    "pkProdId": "10002",
                                    "ProductId": "2",
                                    "Product": "Chang",
                                    "ProductCategory": "Beverages",
                                    "CategoryDesc": "Soft drinks, coffees, teas, beers, and ales",
                                    "UnitPrice": "19.00",
                                    "UnitsInStock": "17",
                                    "UnitsOnOrder": "40",
                                    "ReorderLevel": "25",
                                    "Discontinued": "0",
                                    "ReorderFlag": "No"
                                },
                                {
                                    "pkProdId": "10003",
                                    "ProductId": "3",
                                    "Product": "Aniseed Syrup",
                                    "ProductCategory": "Condiments",
                                    "CategoryDesc": "Sweet and savory sauces, relishes, spreads, and seasonings",
                                    "UnitPrice": "10.00",
                                    "UnitsInStock": "13",
                                    "UnitsOnOrder": "70",
                                    "ReorderLevel": "25",
                                    "Discontinued": "0",
                                    "ReorderFlag": "No"
                                },
                                {
                                    "pkProdId": "10004",
                                    "ProductId": "4",
                                    "Product": "Chef Anton's Cajun Seasoning",
                                    "ProductCategory": "Condiments",
                                    "CategoryDesc": "Sweet and savory sauces, relishes, spreads, and seasonings",
                                    "UnitPrice": "22.00",
                                    "UnitsInStock": "53",
                                    "UnitsOnOrder": "0",
                                    "ReorderLevel": "0",
                                    "Discontinued": "0",
                                    "ReorderFlag": "No"
                                },
                                {
                                    "pkProdId": "10005",
                                    "ProductId": "5",
                                    "Product": "Chef Anton's Gumbo Mix",
                                    "ProductCategory": "Condiments",
                                    "CategoryDesc": "Sweet and savory sauces, relishes, spreads, and seasonings",
                                    "UnitPrice": "21.35",
                                    "UnitsInStock": "0",
                                    "UnitsOnOrder": "0",
                                    "ReorderLevel": "0",
                                    "Discontinued": "1",
                                    "ReorderFlag": "No"
                                },
                                {
                                    "pkProdId": "10006",
                                    "ProductId": "6",
                                    "Product": "Grandma's Boysenberry Spread",
                                    "ProductCategory": "Condiments",
                                    "CategoryDesc": "Sweet and savory sauces, relishes, spreads, and seasonings",
                                    "UnitPrice": "25.00",
                                    "UnitsInStock": "120",
                                    "UnitsOnOrder": "0",
                                    "ReorderLevel": "25",
                                    "Discontinued": "0",
                                    "ReorderFlag": "No"
                                },
                                {
                                    "pkProdId": "10007",
                                    "ProductId": "7",
                                    "Product": "Uncle Bob's Organic Dried Pears",
                                    "ProductCategory": "Produce",
                                    "CategoryDesc": "Dried fruit and bean curd",
                                    "UnitPrice": "30.00",
                                    "UnitsInStock": "15",
                                    "UnitsOnOrder": "0",
                                    "ReorderLevel": "10",
                                    "Discontinued": "0",
                                    "ReorderFlag": "No"
                                },
                                {
                                    "pkProdId": "10008",
                                    "ProductId": "8",
                                    "Product": "Northwoods Cranberry Sauce",
                                    "ProductCategory": "Condiments",
                                    "CategoryDesc": "Sweet and savory sauces, relishes, spreads, and seasonings",
                                    "UnitPrice": "40.00",
                                    "UnitsInStock": "6",
                                    "UnitsOnOrder": "0",
                                    "ReorderLevel": "0",
                                    "Discontinued": "0",
                                    "ReorderFlag": "No"
                                },
                                {
                                    "pkProdId": "10009",
                                    "ProductId": "9",
                                    "Product": "Mishi Kobe Niku",
                                    "ProductCategory": "Meat/Poultry",
                                    "CategoryDesc": "Prepared meats",
                                    "UnitPrice": "97.00",
                                    "UnitsInStock": "29",
                                    "UnitsOnOrder": "0",
                                    "ReorderLevel": "0",
                                    "Discontinued": "1",
                                    "ReorderFlag": "No"
                                },
                                {
                                    "pkProdId": "10010",
                                    "ProductId": "10",
                                    "Product": "Ikura",
                                    "ProductCategory": "Seafood",
                                    "CategoryDesc": "Seaweed and fish",
                                    "UnitPrice": "31.00",
                                    "UnitsInStock": "31",
                                    "UnitsOnOrder": "0",
                                    "ReorderLevel": "0",
                                    "Discontinued": "0",
                                    "ReorderFlag": "No"
                                }
                            ]
                        },
                        "text/html": [
                            "<table>",
                            "<tr><th>pkProdId</th><th>ProductId</th><th>Product</th><th>ProductCategory</th><th>CategoryDesc</th><th>UnitPrice</th><th>UnitsInStock</th><th>UnitsOnOrder</th><th>ReorderLevel</th><th>Discontinued</th><th>ReorderFlag</th></tr>",
                            "<tr><td>10001</td><td>1</td><td>Chai</td><td>Beverages</td><td>Soft drinks, coffees, teas, beers, and ales</td><td>18.00</td><td>39</td><td>0</td><td>10</td><td>0</td><td>No</td></tr>",
                            "<tr><td>10002</td><td>2</td><td>Chang</td><td>Beverages</td><td>Soft drinks, coffees, teas, beers, and ales</td><td>19.00</td><td>17</td><td>40</td><td>25</td><td>0</td><td>No</td></tr>",
                            "<tr><td>10003</td><td>3</td><td>Aniseed Syrup</td><td>Condiments</td><td>Sweet and savory sauces, relishes, spreads, and seasonings</td><td>10.00</td><td>13</td><td>70</td><td>25</td><td>0</td><td>No</td></tr>",
                            "<tr><td>10004</td><td>4</td><td>Chef Anton&#39;s Cajun Seasoning</td><td>Condiments</td><td>Sweet and savory sauces, relishes, spreads, and seasonings</td><td>22.00</td><td>53</td><td>0</td><td>0</td><td>0</td><td>No</td></tr>",
                            "<tr><td>10005</td><td>5</td><td>Chef Anton&#39;s Gumbo Mix</td><td>Condiments</td><td>Sweet and savory sauces, relishes, spreads, and seasonings</td><td>21.35</td><td>0</td><td>0</td><td>0</td><td>1</td><td>No</td></tr>",
                            "<tr><td>10006</td><td>6</td><td>Grandma&#39;s Boysenberry Spread</td><td>Condiments</td><td>Sweet and savory sauces, relishes, spreads, and seasonings</td><td>25.00</td><td>120</td><td>0</td><td>25</td><td>0</td><td>No</td></tr>",
                            "<tr><td>10007</td><td>7</td><td>Uncle Bob&#39;s Organic Dried Pears</td><td>Produce</td><td>Dried fruit and bean curd</td><td>30.00</td><td>15</td><td>0</td><td>10</td><td>0</td><td>No</td></tr>",
                            "<tr><td>10008</td><td>8</td><td>Northwoods Cranberry Sauce</td><td>Condiments</td><td>Sweet and savory sauces, relishes, spreads, and seasonings</td><td>40.00</td><td>6</td><td>0</td><td>0</td><td>0</td><td>No</td></tr>",
                            "<tr><td>10009</td><td>9</td><td>Mishi Kobe Niku</td><td>Meat/Poultry</td><td>Prepared meats</td><td>97.00</td><td>29</td><td>0</td><td>0</td><td>1</td><td>No</td></tr>",
                            "<tr><td>10010</td><td>10</td><td>Ikura</td><td>Seafood</td><td>Seaweed and fish</td><td>31.00</td><td>31</td><td>0</td><td>0</td><td>0</td><td>No</td></tr>",
                            "</table>"
                        ]
                    }
                }
            ],
            "execution_count": 6
        },
        {
            "cell_type": "markdown",
            "source": [
                "### _**Simplicity : This script inserts data into the dim.Products dimension table in the TargetMart2 data warehouse. It transforms and selects information from the source tables \\[NORTHWIND\\].\\[dbo\\].\\[Products\\] and \\[NORTHWIND\\].\\[dbo\\].\\[Categories\\], calculating a derived primary key (pkProdId) and a ReorderFlag based on specific conditions. The insert operation ensures only new products, identified by ProductId, are added to the dimension table, maintaining data integrity.**_\n",
                "\n",
                "\\*\\* **The ReorderFlag column is derived using a CASE statement. It evaluates conditions based on the ReorderLevel, UnitsInStock, UnitsOnOrder, and Discontinued columns to determine if the product needs to be reordered. If the conditions are met, it sets the flag to 'Yes', otherwise 'No'.**"
            ],
            "metadata": {
                "azdata_cell_guid": "0d5f4966-e1a4-489a-84ab-b0c81552f889"
            },
            "attachments": {}
        },
        {
            "cell_type": "markdown",
            "source": [
                "## _**Load the Employees dimension table**_"
            ],
            "metadata": {
                "azdata_cell_guid": "8dd3a683-c88a-49a4-89f3-7f9d34535cdf"
            },
            "attachments": {}
        },
        {
            "cell_type": "code",
            "source": [
                "INSERT INTO dim.Employees(EmployeeID, Employee, Title, BirthDate, HireDate, City, Country, ReportsTo)\r\n",
                "SELECT sEmp.EmployeeID\r\n",
                "\t  ,concat( sEmp.TitleOfCourtesy, ' ', sEmp.FirstName, ', ', sEmp.LastName)\r\n",
                "      ,sEmp.Title\r\n",
                "      ,sEmp.BirthDate\r\n",
                "      ,sEmp.HireDate\r\n",
                "      ,sEmp.City\r\n",
                "      ,sEmp.Country\r\n",
                "      ,sEmp.ReportsTo\r\n",
                "FROM NORHTWIND.dbo.Employees sEmp\r\n",
                "WHERE sEmp.EmployeeID not in (SELECT EmployeeID FROM dim.Employees)"
            ],
            "metadata": {
                "azdata_cell_guid": "85de47ca-eecd-4faa-9baf-4a2f5a703632",
                "language": "sql",
                "tags": []
            },
            "outputs": [
                {
                    "output_type": "display_data",
                    "data": {
                        "text/html": "(0 rows affected)"
                    },
                    "metadata": {}
                },
                {
                    "output_type": "display_data",
                    "data": {
                        "text/html": "Total execution time: 00:00:00.006"
                    },
                    "metadata": {}
                }
            ],
            "execution_count": 143
        },
        {
            "cell_type": "code",
            "source": [
                "Select Top 10 * from dim.Employees;"
            ],
            "metadata": {
                "language": "sql",
                "azdata_cell_guid": "45b1e0b4-9317-4c5d-a2b8-b9c708d48bab"
            },
            "outputs": [
                {
                    "output_type": "display_data",
                    "data": {
                        "text/html": "(9 rows affected)"
                    },
                    "metadata": {}
                },
                {
                    "output_type": "display_data",
                    "data": {
                        "text/html": "Total execution time: 00:00:00.007"
                    },
                    "metadata": {}
                },
                {
                    "output_type": "execute_result",
                    "execution_count": 144,
                    "data": {
                        "application/vnd.dataresource+json": {
                            "schema": {
                                "fields": [
                                    {
                                        "name": "EmployeeID"
                                    },
                                    {
                                        "name": "Employee"
                                    },
                                    {
                                        "name": "Title"
                                    },
                                    {
                                        "name": "BirthDate"
                                    },
                                    {
                                        "name": "HireDate"
                                    },
                                    {
                                        "name": "City"
                                    },
                                    {
                                        "name": "Country"
                                    },
                                    {
                                        "name": "ReportsTo"
                                    }
                                ]
                            },
                            "data": [
                                {
                                    "EmployeeID": "1",
                                    "Employee": "Ms. Nancy, Davolio",
                                    "Title": "Sales Representative",
                                    "BirthDate": "1973-12-08 00:00:00.000",
                                    "HireDate": "2017-05-01 00:00:00.000",
                                    "City": "Seattle",
                                    "Country": "USA",
                                    "ReportsTo": "2"
                                },
                                {
                                    "EmployeeID": "2",
                                    "Employee": "Dr. Andrew, Fuller",
                                    "Title": "Vice President, Sales",
                                    "BirthDate": "1977-02-19 00:00:00.000",
                                    "HireDate": "2017-08-14 00:00:00.000",
                                    "City": "Tacoma",
                                    "Country": "USA",
                                    "ReportsTo": "NULL"
                                },
                                {
                                    "EmployeeID": "3",
                                    "Employee": "Ms. Janet, Leverling",
                                    "Title": "Sales Representative",
                                    "BirthDate": "1988-08-30 00:00:00.000",
                                    "HireDate": "2017-04-01 00:00:00.000",
                                    "City": "Kirkland",
                                    "Country": "USA",
                                    "ReportsTo": "2"
                                },
                                {
                                    "EmployeeID": "4",
                                    "Employee": "Mrs. Margaret, Peacock",
                                    "Title": "Sales Representative",
                                    "BirthDate": "1962-09-19 00:00:00.000",
                                    "HireDate": "2018-05-03 00:00:00.000",
                                    "City": "Redmond",
                                    "Country": "USA",
                                    "ReportsTo": "2"
                                },
                                {
                                    "EmployeeID": "5",
                                    "Employee": "Mr. Steven, Buchanan",
                                    "Title": "Sales Manager",
                                    "BirthDate": "1980-03-04 00:00:00.000",
                                    "HireDate": "2018-10-17 00:00:00.000",
                                    "City": "London",
                                    "Country": "UK",
                                    "ReportsTo": "2"
                                },
                                {
                                    "EmployeeID": "6",
                                    "Employee": "Mr. Michael, Suyama",
                                    "Title": "Sales Representative",
                                    "BirthDate": "1988-07-02 00:00:00.000",
                                    "HireDate": "2018-10-17 00:00:00.000",
                                    "City": "London",
                                    "Country": "UK",
                                    "ReportsTo": "5"
                                },
                                {
                                    "EmployeeID": "7",
                                    "Employee": "Mr. Robert, King",
                                    "Title": "Sales Representative",
                                    "BirthDate": "1985-05-29 00:00:00.000",
                                    "HireDate": "2019-01-02 00:00:00.000",
                                    "City": "London",
                                    "Country": "UK",
                                    "ReportsTo": "5"
                                },
                                {
                                    "EmployeeID": "8",
                                    "Employee": "Ms. Laura, Callahan",
                                    "Title": "Inside Sales Coordinator",
                                    "BirthDate": "1983-01-09 00:00:00.000",
                                    "HireDate": "2019-03-05 00:00:00.000",
                                    "City": "Seattle",
                                    "Country": "USA",
                                    "ReportsTo": "2"
                                },
                                {
                                    "EmployeeID": "9",
                                    "Employee": "Ms. Anne, Dodsworth",
                                    "Title": "Sales Representative",
                                    "BirthDate": "1991-01-27 00:00:00.000",
                                    "HireDate": "2019-11-15 00:00:00.000",
                                    "City": "London",
                                    "Country": "UK",
                                    "ReportsTo": "5"
                                }
                            ]
                        },
                        "text/html": "<table><tr><th>EmployeeID</th><th>Employee</th><th>Title</th><th>BirthDate</th><th>HireDate</th><th>City</th><th>Country</th><th>ReportsTo</th></tr><tr><td>1</td><td>Ms. Nancy, Davolio</td><td>Sales Representative</td><td>1973-12-08 00:00:00.000</td><td>2017-05-01 00:00:00.000</td><td>Seattle</td><td>USA</td><td>2</td></tr><tr><td>2</td><td>Dr. Andrew, Fuller</td><td>Vice President, Sales</td><td>1977-02-19 00:00:00.000</td><td>2017-08-14 00:00:00.000</td><td>Tacoma</td><td>USA</td><td>NULL</td></tr><tr><td>3</td><td>Ms. Janet, Leverling</td><td>Sales Representative</td><td>1988-08-30 00:00:00.000</td><td>2017-04-01 00:00:00.000</td><td>Kirkland</td><td>USA</td><td>2</td></tr><tr><td>4</td><td>Mrs. Margaret, Peacock</td><td>Sales Representative</td><td>1962-09-19 00:00:00.000</td><td>2018-05-03 00:00:00.000</td><td>Redmond</td><td>USA</td><td>2</td></tr><tr><td>5</td><td>Mr. Steven, Buchanan</td><td>Sales Manager</td><td>1980-03-04 00:00:00.000</td><td>2018-10-17 00:00:00.000</td><td>London</td><td>UK</td><td>2</td></tr><tr><td>6</td><td>Mr. Michael, Suyama</td><td>Sales Representative</td><td>1988-07-02 00:00:00.000</td><td>2018-10-17 00:00:00.000</td><td>London</td><td>UK</td><td>5</td></tr><tr><td>7</td><td>Mr. Robert, King</td><td>Sales Representative</td><td>1985-05-29 00:00:00.000</td><td>2019-01-02 00:00:00.000</td><td>London</td><td>UK</td><td>5</td></tr><tr><td>8</td><td>Ms. Laura, Callahan</td><td>Inside Sales Coordinator</td><td>1983-01-09 00:00:00.000</td><td>2019-03-05 00:00:00.000</td><td>Seattle</td><td>USA</td><td>2</td></tr><tr><td>9</td><td>Ms. Anne, Dodsworth</td><td>Sales Representative</td><td>1991-01-27 00:00:00.000</td><td>2019-11-15 00:00:00.000</td><td>London</td><td>UK</td><td>5</td></tr></table>"
                    },
                    "metadata": {}
                }
            ],
            "execution_count": 144
        },
        {
            "cell_type": "markdown",
            "source": [
                "## **_Fact TableLoaders_**"
            ],
            "metadata": {
                "language": "sql",
                "azdata_cell_guid": "e44de50b-2471-4879-81ef-ffa407acbbba"
            },
            "attachments": {}
        },
        {
            "cell_type": "markdown",
            "source": [
                "## **_Order Perf Fact table_**"
            ],
            "metadata": {
                "language": "sql",
                "azdata_cell_guid": "418f9fc5-ebd5-47a6-8bd2-2eb2d76c467f"
            },
            "attachments": {}
        },
        {
            "cell_type": "code",
            "source": [
                "Begin\r\n",
                "TRUNCATE TABLE TargetMart2.f.OrderPerf\r\n",
                "INSERT INTO TargetMart2.f.OrderPerf(OrderID, fkCalendar, fkCustomer, fkShipper, fkEmployee, Freight, DaysToShip, DaysTilRequired, OrderCount)\r\n",
                "SELECT sO.OrderID\r\n",
                "\t  ,tC.pkCalendar as fkCalendar\r\n",
                "\t  ,tCus.pkCustomer as fkCustomer\r\n",
                "\t  ,sO.ShipVia as fkShipper\r\n",
                "\t  ,sO.EmployeeID as fkEmployee\r\n",
                "\t  ,sO.Freight\r\n",
                "\t  ,DATEDIFF ( day , sO.OrderDate , sO.ShippedDate ) as 'DaysToShip'\r\n",
                "\t  ,DATEDIFF ( day , sO.OrderDate , sO.RequireDate ) as 'DaysTilRequired'\r\n",
                "\t  , 1 as 'OrderCount'\r\n",
                "FROM NORHTWIND.dbo.Orders sO\r\n",
                "\tINNER JOIN TargetMart.dim.Calendar tC\r\n",
                "\tON cast(so.OrderDate as DATE) = tc.DateValue\r\n",
                "\tINNER JOIN TargetMart.dim.Customers tCus\r\n",
                "\tON sO.CustomerID = tCus.CustomerID\r\n",
                "; \r\n",
                "End"
            ],
            "metadata": {
                "language": "sql",
                "azdata_cell_guid": "12bcfca0-8bb1-48ca-a120-f9d2017f32ae",
                "tags": []
            },
            "outputs": [
                {
                    "output_type": "display_data",
                    "data": {
                        "text/html": "(830 rows affected)"
                    },
                    "metadata": {}
                },
                {
                    "output_type": "display_data",
                    "data": {
                        "text/html": "Total execution time: 00:00:00.043"
                    },
                    "metadata": {}
                }
            ],
            "execution_count": 145
        },
        {
            "cell_type": "markdown",
            "source": [
                "### **_Simplicity :  Inserts data into F.OrderPerf  <span style=\"color: var(--vscode-foreground);\">by selecting relevant information from the 'NORTHWIND.dbo.Orders' source table. The script joins with 'TargetMart.dim.Calendar' and 'TargetMart.dim.Customers' to link order details with corresponding calendar dates and customer information. Calculated columns, such as 'DaysToShip' and 'DaysTilRequired,' provide additional insights. Each inserted record is marked with 'OrderCount' equal to 1.</span>_**"
            ],
            "metadata": {
                "language": "sql",
                "azdata_cell_guid": "81d0fbc8-3c32-40a2-aefc-d2bd17c72f28"
            },
            "attachments": {}
        },
        {
            "cell_type": "code",
            "source": [
                "Select top 10 * from f.OrderPerf;"
            ],
            "metadata": {
                "azdata_cell_guid": "fac57d8c-3698-457c-8c88-2cd1fa70c334",
                "language": "sql"
            },
            "outputs": [
                {
                    "output_type": "display_data",
                    "data": {
                        "text/html": "(10 rows affected)"
                    },
                    "metadata": {}
                },
                {
                    "output_type": "display_data",
                    "data": {
                        "text/html": "Total execution time: 00:00:00.009"
                    },
                    "metadata": {}
                },
                {
                    "output_type": "execute_result",
                    "metadata": {},
                    "execution_count": 7,
                    "data": {
                        "application/vnd.dataresource+json": {
                            "schema": {
                                "fields": [
                                    {
                                        "name": "OrderID"
                                    },
                                    {
                                        "name": "fkCalendar"
                                    },
                                    {
                                        "name": "fkCustomer"
                                    },
                                    {
                                        "name": "fkShipper"
                                    },
                                    {
                                        "name": "fkEmployee"
                                    },
                                    {
                                        "name": "Freight"
                                    },
                                    {
                                        "name": "DaysToShip"
                                    },
                                    {
                                        "name": "DaysTilRequired"
                                    },
                                    {
                                        "name": "OrderCount"
                                    }
                                ]
                            },
                            "data": [
                                {
                                    "OrderID": "10248",
                                    "fkCalendar": "120551",
                                    "fkCustomer": "1085",
                                    "fkShipper": "3",
                                    "fkEmployee": "5",
                                    "Freight": "32.38",
                                    "DaysToShip": "12",
                                    "DaysTilRequired": "28",
                                    "OrderCount": "1"
                                },
                                {
                                    "OrderID": "10249",
                                    "fkCalendar": "120552",
                                    "fkCustomer": "1079",
                                    "fkShipper": "1",
                                    "fkEmployee": "6",
                                    "Freight": "11.61",
                                    "DaysToShip": "5",
                                    "DaysTilRequired": "42",
                                    "OrderCount": "1"
                                },
                                {
                                    "OrderID": "10250",
                                    "fkCalendar": "120555",
                                    "fkCustomer": "1033",
                                    "fkShipper": "2",
                                    "fkEmployee": "4",
                                    "Freight": "65.83",
                                    "DaysToShip": "4",
                                    "DaysTilRequired": "28",
                                    "OrderCount": "1"
                                },
                                {
                                    "OrderID": "10251",
                                    "fkCalendar": "120555",
                                    "fkCustomer": "1084",
                                    "fkShipper": "1",
                                    "fkEmployee": "3",
                                    "Freight": "41.34",
                                    "DaysToShip": "7",
                                    "DaysTilRequired": "28",
                                    "OrderCount": "1"
                                },
                                {
                                    "OrderID": "10252",
                                    "fkCalendar": "120556",
                                    "fkCustomer": "1076",
                                    "fkShipper": "2",
                                    "fkEmployee": "4",
                                    "Freight": "51.30",
                                    "DaysToShip": "2",
                                    "DaysTilRequired": "28",
                                    "OrderCount": "1"
                                },
                                {
                                    "OrderID": "10253",
                                    "fkCalendar": "120557",
                                    "fkCustomer": "1033",
                                    "fkShipper": "2",
                                    "fkEmployee": "3",
                                    "Freight": "58.17",
                                    "DaysToShip": "6",
                                    "DaysTilRequired": "14",
                                    "OrderCount": "1"
                                },
                                {
                                    "OrderID": "10254",
                                    "fkCalendar": "120558",
                                    "fkCustomer": "1013",
                                    "fkShipper": "2",
                                    "fkEmployee": "5",
                                    "Freight": "22.98",
                                    "DaysToShip": "12",
                                    "DaysTilRequired": "28",
                                    "OrderCount": "1"
                                },
                                {
                                    "OrderID": "10255",
                                    "fkCalendar": "120559",
                                    "fkCustomer": "1068",
                                    "fkShipper": "3",
                                    "fkEmployee": "9",
                                    "Freight": "148.33",
                                    "DaysToShip": "3",
                                    "DaysTilRequired": "28",
                                    "OrderCount": "1"
                                },
                                {
                                    "OrderID": "10256",
                                    "fkCalendar": "120562",
                                    "fkCustomer": "1088",
                                    "fkShipper": "2",
                                    "fkEmployee": "3",
                                    "Freight": "13.97",
                                    "DaysToShip": "2",
                                    "DaysTilRequired": "28",
                                    "OrderCount": "1"
                                },
                                {
                                    "OrderID": "10257",
                                    "fkCalendar": "120563",
                                    "fkCustomer": "1034",
                                    "fkShipper": "3",
                                    "fkEmployee": "4",
                                    "Freight": "81.91",
                                    "DaysToShip": "6",
                                    "DaysTilRequired": "28",
                                    "OrderCount": "1"
                                }
                            ]
                        },
                        "text/html": [
                            "<table>",
                            "<tr><th>OrderID</th><th>fkCalendar</th><th>fkCustomer</th><th>fkShipper</th><th>fkEmployee</th><th>Freight</th><th>DaysToShip</th><th>DaysTilRequired</th><th>OrderCount</th></tr>",
                            "<tr><td>10248</td><td>120551</td><td>1085</td><td>3</td><td>5</td><td>32.38</td><td>12</td><td>28</td><td>1</td></tr>",
                            "<tr><td>10249</td><td>120552</td><td>1079</td><td>1</td><td>6</td><td>11.61</td><td>5</td><td>42</td><td>1</td></tr>",
                            "<tr><td>10250</td><td>120555</td><td>1033</td><td>2</td><td>4</td><td>65.83</td><td>4</td><td>28</td><td>1</td></tr>",
                            "<tr><td>10251</td><td>120555</td><td>1084</td><td>1</td><td>3</td><td>41.34</td><td>7</td><td>28</td><td>1</td></tr>",
                            "<tr><td>10252</td><td>120556</td><td>1076</td><td>2</td><td>4</td><td>51.30</td><td>2</td><td>28</td><td>1</td></tr>",
                            "<tr><td>10253</td><td>120557</td><td>1033</td><td>2</td><td>3</td><td>58.17</td><td>6</td><td>14</td><td>1</td></tr>",
                            "<tr><td>10254</td><td>120558</td><td>1013</td><td>2</td><td>5</td><td>22.98</td><td>12</td><td>28</td><td>1</td></tr>",
                            "<tr><td>10255</td><td>120559</td><td>1068</td><td>3</td><td>9</td><td>148.33</td><td>3</td><td>28</td><td>1</td></tr>",
                            "<tr><td>10256</td><td>120562</td><td>1088</td><td>2</td><td>3</td><td>13.97</td><td>2</td><td>28</td><td>1</td></tr>",
                            "<tr><td>10257</td><td>120563</td><td>1034</td><td>3</td><td>4</td><td>81.91</td><td>6</td><td>28</td><td>1</td></tr>",
                            "</table>"
                        ]
                    }
                }
            ],
            "execution_count": 7
        },
        {
            "cell_type": "markdown",
            "source": [
                "## **_Product Perf Fact table_**"
            ],
            "metadata": {
                "language": "sql",
                "azdata_cell_guid": "0b003f8b-d8d4-400b-971b-c19a67253ce9"
            },
            "attachments": {}
        },
        {
            "cell_type": "code",
            "source": [
                "BEGIN\r\n",
                "TRUNCATE TABLE TargetMart2.f.ProductPerf\r\n",
                "\r\n",
                "INSERT INTO TargetMart2.f.ProductPerf(OrderID, OrderDate, ProductID, CustomerID, UnitPrice, Quantity, Discount, DiscFlag, LineTotal)\r\n",
                "SELECT sDet.OrderID\r\n",
                "      ,tCal.pkCalendar as 'OrderDate'\r\n",
                "      ,sDet.ProductID + 10000 as 'ProductID'\r\n",
                "\t  ,tCust.pkCustomer\r\n",
                "      ,sDet.UnitPrice\r\n",
                "      ,sDet.Quantity\r\n",
                "      ,sDet.Discount\r\n",
                "\t  ,CASE \r\n",
                "\t\t WHEN sDet.Discount = 0 THEN 0\r\n",
                "\t\t ELSE 1\r\n",
                "\t   END as 'DiscFlag'\r\n",
                "\t  ,CAST(((1 - sDet.Discount) * sDet.UnitPrice) * sDet.Quantity as MONEY) as 'LineTotal'\r\n",
                "FROM NORHTWIND.dbo.OrderDetails sDet\r\n",
                "\tINNER JOIN NORHTWIND.dbo.Orders sOrd\r\n",
                "\tON sDet.OrderID = sOrd.OrderID\r\n",
                "\tINNER JOIN dim.Calendar tCal\r\n",
                "\tON CAST(sOrd.OrderDate as DATE) = tCal.DateValue\r\n",
                "\tINNER JOIN dim.Customers tCust\r\n",
                "\tON sOrd.CustomerID = tCust.CustomerID\r\n",
                ";\r\n",
                "\r\n",
                "END"
            ],
            "metadata": {
                "language": "sql",
                "azdata_cell_guid": "5f843fe3-9f41-495b-887a-1c4dd2285407",
                "tags": []
            },
            "outputs": [
                {
                    "output_type": "display_data",
                    "data": {
                        "text/html": "(2155 rows affected)"
                    },
                    "metadata": {}
                },
                {
                    "output_type": "display_data",
                    "data": {
                        "text/html": "Total execution time: 00:00:00.072"
                    },
                    "metadata": {}
                }
            ],
            "execution_count": 147
        },
        {
            "cell_type": "markdown",
            "source": [
                "**_Simplicity: This is_** **_TargetMart2.f.ProductPerf' table and inserts data by selecting details from 'NORTHWIND.dbo.OrderDetails.' The script joins with 'NORTHWIND.dbo.Orders,' 'dim.Calendar,' and 'dim.Customers' to link order details with corresponding calendar dates and customer information. Calculated columns, such as 'DiscFlag' and 'LineTotal,' provide additional insights into product performance_**"
            ],
            "metadata": {
                "azdata_cell_guid": "f65ebf84-1eca-4488-b778-91db71eb4ab6"
            },
            "attachments": {}
        },
        {
            "cell_type": "code",
            "source": [
                "Select top 10 * from f.ProductPerf;"
            ],
            "metadata": {
                "azdata_cell_guid": "7eb43e6a-7e3f-4719-a963-5a72f0fd1358",
                "language": "sql"
            },
            "outputs": [
                {
                    "output_type": "display_data",
                    "data": {
                        "text/html": "(10 rows affected)"
                    },
                    "metadata": {}
                },
                {
                    "output_type": "display_data",
                    "data": {
                        "text/html": "Total execution time: 00:00:00.016"
                    },
                    "metadata": {}
                },
                {
                    "output_type": "execute_result",
                    "metadata": {},
                    "execution_count": 8,
                    "data": {
                        "application/vnd.dataresource+json": {
                            "schema": {
                                "fields": [
                                    {
                                        "name": "OrderID"
                                    },
                                    {
                                        "name": "OrderDate"
                                    },
                                    {
                                        "name": "ProductID"
                                    },
                                    {
                                        "name": "CustomerID"
                                    },
                                    {
                                        "name": "UnitPrice"
                                    },
                                    {
                                        "name": "Quantity"
                                    },
                                    {
                                        "name": "Discount"
                                    },
                                    {
                                        "name": "DiscFlag"
                                    },
                                    {
                                        "name": "LineTotal"
                                    }
                                ]
                            },
                            "data": [
                                {
                                    "OrderID": "10248",
                                    "OrderDate": "120551",
                                    "ProductID": "10011",
                                    "CustomerID": "1085",
                                    "UnitPrice": "14.00",
                                    "Quantity": "12",
                                    "Discount": "0",
                                    "DiscFlag": "0",
                                    "LineTotal": "168.00"
                                },
                                {
                                    "OrderID": "10248",
                                    "OrderDate": "120551",
                                    "ProductID": "10042",
                                    "CustomerID": "1085",
                                    "UnitPrice": "9.80",
                                    "Quantity": "10",
                                    "Discount": "0",
                                    "DiscFlag": "0",
                                    "LineTotal": "98.00"
                                },
                                {
                                    "OrderID": "10248",
                                    "OrderDate": "120551",
                                    "ProductID": "10072",
                                    "CustomerID": "1085",
                                    "UnitPrice": "34.80",
                                    "Quantity": "5",
                                    "Discount": "0",
                                    "DiscFlag": "0",
                                    "LineTotal": "174.00"
                                },
                                {
                                    "OrderID": "10249",
                                    "OrderDate": "120552",
                                    "ProductID": "10014",
                                    "CustomerID": "1079",
                                    "UnitPrice": "18.60",
                                    "Quantity": "9",
                                    "Discount": "0",
                                    "DiscFlag": "0",
                                    "LineTotal": "167.40"
                                },
                                {
                                    "OrderID": "10249",
                                    "OrderDate": "120552",
                                    "ProductID": "10051",
                                    "CustomerID": "1079",
                                    "UnitPrice": "42.40",
                                    "Quantity": "40",
                                    "Discount": "0",
                                    "DiscFlag": "0",
                                    "LineTotal": "1696.00"
                                },
                                {
                                    "OrderID": "10250",
                                    "OrderDate": "120555",
                                    "ProductID": "10041",
                                    "CustomerID": "1033",
                                    "UnitPrice": "7.70",
                                    "Quantity": "10",
                                    "Discount": "0",
                                    "DiscFlag": "0",
                                    "LineTotal": "77.00"
                                },
                                {
                                    "OrderID": "10250",
                                    "OrderDate": "120555",
                                    "ProductID": "10051",
                                    "CustomerID": "1033",
                                    "UnitPrice": "42.40",
                                    "Quantity": "35",
                                    "Discount": "0.15000000596046448",
                                    "DiscFlag": "1",
                                    "LineTotal": "1261.40"
                                },
                                {
                                    "OrderID": "10250",
                                    "OrderDate": "120555",
                                    "ProductID": "10065",
                                    "CustomerID": "1033",
                                    "UnitPrice": "16.80",
                                    "Quantity": "15",
                                    "Discount": "0.15000000596046448",
                                    "DiscFlag": "1",
                                    "LineTotal": "214.20"
                                },
                                {
                                    "OrderID": "10251",
                                    "OrderDate": "120555",
                                    "ProductID": "10022",
                                    "CustomerID": "1084",
                                    "UnitPrice": "16.80",
                                    "Quantity": "6",
                                    "Discount": "0.05000000074505806",
                                    "DiscFlag": "1",
                                    "LineTotal": "95.76"
                                },
                                {
                                    "OrderID": "10251",
                                    "OrderDate": "120555",
                                    "ProductID": "10057",
                                    "CustomerID": "1084",
                                    "UnitPrice": "15.60",
                                    "Quantity": "15",
                                    "Discount": "0.05000000074505806",
                                    "DiscFlag": "1",
                                    "LineTotal": "222.30"
                                }
                            ]
                        },
                        "text/html": [
                            "<table>",
                            "<tr><th>OrderID</th><th>OrderDate</th><th>ProductID</th><th>CustomerID</th><th>UnitPrice</th><th>Quantity</th><th>Discount</th><th>DiscFlag</th><th>LineTotal</th></tr>",
                            "<tr><td>10248</td><td>120551</td><td>10011</td><td>1085</td><td>14.00</td><td>12</td><td>0</td><td>0</td><td>168.00</td></tr>",
                            "<tr><td>10248</td><td>120551</td><td>10042</td><td>1085</td><td>9.80</td><td>10</td><td>0</td><td>0</td><td>98.00</td></tr>",
                            "<tr><td>10248</td><td>120551</td><td>10072</td><td>1085</td><td>34.80</td><td>5</td><td>0</td><td>0</td><td>174.00</td></tr>",
                            "<tr><td>10249</td><td>120552</td><td>10014</td><td>1079</td><td>18.60</td><td>9</td><td>0</td><td>0</td><td>167.40</td></tr>",
                            "<tr><td>10249</td><td>120552</td><td>10051</td><td>1079</td><td>42.40</td><td>40</td><td>0</td><td>0</td><td>1696.00</td></tr>",
                            "<tr><td>10250</td><td>120555</td><td>10041</td><td>1033</td><td>7.70</td><td>10</td><td>0</td><td>0</td><td>77.00</td></tr>",
                            "<tr><td>10250</td><td>120555</td><td>10051</td><td>1033</td><td>42.40</td><td>35</td><td>0.15000000596046448</td><td>1</td><td>1261.40</td></tr>",
                            "<tr><td>10250</td><td>120555</td><td>10065</td><td>1033</td><td>16.80</td><td>15</td><td>0.15000000596046448</td><td>1</td><td>214.20</td></tr>",
                            "<tr><td>10251</td><td>120555</td><td>10022</td><td>1084</td><td>16.80</td><td>6</td><td>0.05000000074505806</td><td>1</td><td>95.76</td></tr>",
                            "<tr><td>10251</td><td>120555</td><td>10057</td><td>1084</td><td>15.60</td><td>15</td><td>0.05000000074505806</td><td>1</td><td>222.30</td></tr>",
                            "</table>"
                        ]
                    }
                }
            ],
            "execution_count": 8
        },
        {
            "cell_type": "markdown",
            "source": [
                "**Thanks & Happy Learning........**"
            ],
            "metadata": {
                "azdata_cell_guid": "6319ad88-b47c-45da-a435-030470c4e25a"
            },
            "attachments": {}
        }
    ]
}